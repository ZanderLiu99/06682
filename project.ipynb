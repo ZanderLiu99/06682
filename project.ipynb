{
 "cells": [
  {
   "cell_type": "markdown",
   "id": "d7a1aa40",
   "metadata": {},
   "source": [
    "Before you turn this problem in, make sure everything runs as expected. First, **restart the kernel** (in the menubar, select Kernel$\\rightarrow$Restart) and then **run all cells** (in the menubar, select Cell$\\rightarrow$Run All).\n",
    "\n",
    "Make sure you fill in any place that says `YOUR CODE HERE` or \"YOUR ANSWER HERE\", as well as your name and collaborators below:\n",
    "\n"
   ]
  },
  {
   "cell_type": "code",
   "execution_count": 1,
   "id": "63bcd485",
   "metadata": {},
   "outputs": [],
   "source": [
    "NAME = \"Ziang Liu\"\n",
    "\n"
   ]
  },
  {
   "cell_type": "markdown",
   "id": "0321e073",
   "metadata": {},
   "source": [
    "---\n",
    "\n"
   ]
  },
  {
   "cell_type": "markdown",
   "id": "e2ca97db-b880-41d9-aad4-755acca358d1",
   "metadata": {},
   "source": [
    "Project\n",
    "=======\n",
    "\n",
    "The final project is to create a small Python package for OpenAlex based on what we have learned so far. You will create the package and host it on GitHUB. You will turn in a pdf of this notebook.\n",
    "\n",
    "Your tasks are:\n",
    "1. Create a pip installable Python package in a GitHUB repo that provides an OpenAlex Works class. The class should have methods to get an RIS and a bibtex entry for a DOI. You can reuse code from previous assignments and lectures. Your class should also have a command line utility that prints RIS or bibtex to the terminal. \n",
    "2. Your package must have some tests that show at least some part of the package works correctly.\n",
    "3. You should make sure your repo passes black and pylint. Your code should pass both of these.\n",
    "4. You should setup a GitHUB action that runs your tests\n",
    "5. You should add an Actions status badge that shows in the README.\n",
    "6. Your package should also have a license.\n",
    "\n",
    "Put the URL to your repo in the next cell:\n",
    "\n"
   ]
  },
  {
   "cell_type": "code",
   "execution_count": 2,
   "id": "e519cca5-3d1a-42f8-912f-c82c7f249250",
   "metadata": {},
   "outputs": [
    {
     "name": "stdout",
     "output_type": "stream",
     "text": [
      "Found existing installation: s23openalex 0.0.1\n",
      "Uninstalling s23openalex-0.0.1:\n",
      "  Successfully uninstalled s23openalex-0.0.1\n"
     ]
    }
   ],
   "source": [
    "%%bash\n",
    "# Clean up any existing files\n",
    "rm -rf pkg\n",
    "pip uninstall -y s23openalex"
   ]
  },
  {
   "cell_type": "code",
   "execution_count": 3,
   "id": "d0cf028a-567f-4b2a-82e7-f140cad39024",
   "metadata": {},
   "outputs": [
    {
     "name": "stdout",
     "output_type": "stream",
     "text": [
      "Initialized empty Git repository in /home/jupyter-ziangliu@andrew.cm-5e81f/s23-06682/assignments/project/pkg/.git/\n"
     ]
    }
   ],
   "source": [
    "%%bash\n",
    "mkdir -p pkg/s23openalex\n",
    "cd pkg"
   ]
  },
  {
   "cell_type": "code",
   "execution_count": 4,
   "id": "3777fd3b-352e-4195-bcb8-bc915b3dc10c",
   "metadata": {},
   "outputs": [
    {
     "name": "stdout",
     "output_type": "stream",
     "text": [
      "Writing pkg/setup.py\n"
     ]
    }
   ],
   "source": [
    "%%writefile pkg/setup.py\n",
    "\"\"\"This file help to setup.\"\"\"\n",
    "\n",
    "from setuptools import setup\n",
    "\n",
    "setup(\n",
    "    name=\"s23openalex\",\n",
    "    version=\"0.0.1\",\n",
    "    description=\"bibtex and RIS\",\n",
    "    maintainer=\"Ziang Liu\",\n",
    "    maintainer_email=\"ziangliu@andrew.cmu.edu\",\n",
    "    license=\"MIT\",\n",
    "    packages=[\"s23openalex\"],\n",
    "    scripts=[],\n",
    "    long_description=\"\"\"get an RIS and a bibtex entry for a DOI\"\"\",\n",
    ")"
   ]
  },
  {
   "cell_type": "code",
   "execution_count": 31,
   "id": "c3d6aed6-7670-4971-ae98-a586a3d6f4cb",
   "metadata": {},
   "outputs": [
    {
     "name": "stdout",
     "output_type": "stream",
     "text": [
      "Writing pkg/README.md\n"
     ]
    }
   ],
   "source": [
    "%%writefile pkg/README.md \n",
    "This package could get an RIS and a bibtex entry for a DOI."
   ]
  },
  {
   "cell_type": "code",
   "execution_count": 5,
   "id": "cc9819d2-6164-463b-b2b0-c74be29da11c",
   "metadata": {},
   "outputs": [
    {
     "name": "stdout",
     "output_type": "stream",
     "text": [
      "Writing pkg/s23openalex/works.py\n"
     ]
    }
   ],
   "source": [
    "%%writefile pkg/s23openalex/works.py\n",
    "\"\"\"This file could get an RIS and a bibtex entry for a DOI.\"\"\"\n",
    "\n",
    "import requests\n",
    "import bibtexparser\n",
    "\n",
    "\n",
    "class Works:\n",
    "    \"\"\"This class could get an RIS and a bibtex entry for a DOI.\"\"\"\n",
    "\n",
    "    def __init__(self, oaid):\n",
    "        \"\"\"Get an RIS and a bibtex entry for a DOI.\"\"\"\n",
    "        self.oaid = oaid\n",
    "        self.req = requests.get(f\"https://api.openalex.org/works/{oaid}\")\n",
    "        self.data = self.req.json()\n",
    "\n",
    "    def get_bibtex(self):\n",
    "        \"\"\"Get a bibtex entry for a DOI.\"\"\"\n",
    "        h = \"application/x-bibtex\"\n",
    "        res = requests.get(self.data[\"doi\"], headers={\"Accept\": h})\n",
    "        db = bibtexparser.loads(res.text)\n",
    "        self.bibtex = db.entries[0]\n",
    "        return self.bibtex\n",
    "\n",
    "    def get_RIS(self):\n",
    "        \"\"\"Get an RIS for a DOI.\"\"\"\n",
    "        fields = []\n",
    "        if self.data[\"type\"] == \"journal-article\":\n",
    "            fields += [\"TY  - JOUR\"]\n",
    "        else:\n",
    "            raise Exception(\"Unsupported type {self.data['type']}\")\n",
    "\n",
    "        for author in self.data[\"authorships\"]:\n",
    "            fields += [f'AU  - {author[\"author\"][\"display_name\"]}']\n",
    "\n",
    "        fields += [f'PY  - {self.data[\"publication_year\"]}']\n",
    "        fields += [f'TI  - {self.data[\"title\"]}']\n",
    "        fields += [f'JO  - {self.data[\"host_venue\"][\"display_name\"]}']\n",
    "        fields += [f'VL  - {self.data[\"biblio\"][\"volume\"]}']\n",
    "\n",
    "        if self.data[\"biblio\"][\"issue\"]:\n",
    "            fields += [f'IS  - {self.data[\"biblio\"][\"issue\"]}']\n",
    "\n",
    "        fields += [f'SP  - {self.data[\"biblio\"][\"first_page\"]}']\n",
    "        fields += [f'EP  - {self.data[\"biblio\"][\"last_page\"]}']\n",
    "        fields += [f'DO  - {self.data[\"doi\"]}']\n",
    "        fields += [\"ER  -\"]\n",
    "\n",
    "        self.ris = fields\n",
    "        return self.ris"
   ]
  },
  {
   "cell_type": "code",
   "execution_count": 6,
   "id": "f43cd50e-98ed-457e-bb0b-44c30b4f4906",
   "metadata": {},
   "outputs": [
    {
     "name": "stdout",
     "output_type": "stream",
     "text": [
      "Writing pkg/s23openalex/__main__.py\n"
     ]
    }
   ],
   "source": [
    "%%writefile pkg/s23openalex/__main__.py\n",
    "\"\"\"This file use cmd line to get an RIS and a bibtex entry for a DOI.\"\"\"\n",
    "\n",
    "import argparse\n",
    "from s23openalex import Works\n",
    "\n",
    "\n",
    "def main():\n",
    "    \"\"\"Get an RIS and a bibtex entry for a DOI.\"\"\"\n",
    "    parser = argparse.ArgumentParser(description=\"Get RIS or bibtex entry.\")\n",
    "    parser.add_argument(\"doi\", help=\"Input the DOI.\")\n",
    "    parser.add_argument(\"--RIS\", help=\"Get the RIS.\", action=\"store_true\")\n",
    "    parser.add_argument(\"--bib\", help=\"Get the bibtex.\", action=\"store_true\")\n",
    "\n",
    "    args = parser.parse_args()\n",
    "    ww = Works(args.doi)\n",
    "    if args.RIS:\n",
    "        print(ww.get_RIS())\n",
    "    elif args.bib:\n",
    "        print(ww.get_bibtex())\n",
    "    else:\n",
    "        print(\"Please select an option (--RIS or --bibtex).\")\n",
    "\n",
    "\n",
    "if __name__ == \"__main__\":\n",
    "    main()"
   ]
  },
  {
   "cell_type": "code",
   "execution_count": 7,
   "id": "7e7eb9d3-bf69-4927-844d-bd9da76311be",
   "metadata": {},
   "outputs": [
    {
     "name": "stdout",
     "output_type": "stream",
     "text": [
      "Writing pkg/s23openalex/__init__.py\n"
     ]
    }
   ],
   "source": [
    "%%writefile pkg/s23openalex/__init__.py\n",
    "\"\"\"This file start the pkg.\"\"\"\n",
    "\n",
    "from .works import Works"
   ]
  },
  {
   "cell_type": "code",
   "execution_count": 8,
   "id": "d272a38e-71f1-48a0-a348-44cd0578e1fc",
   "metadata": {},
   "outputs": [
    {
     "name": "stdout",
     "output_type": "stream",
     "text": [
      "Writing pkg/s23openalex/test_works.py\n"
     ]
    }
   ],
   "source": [
    "%%writefile pkg/s23openalex/test_works.py\n",
    "\"\"\"This file test the works.\"\"\"\n",
    "\n",
    "import pytest\n",
    "from s23openalex import Works\n",
    "\n",
    "bib = {\n",
    "    \"journal\": \"{ACS} Catalysis\",\n",
    "    \"title\": \"Examples of Effective Data Sharing in Scientific Publishing\",\n",
    "    \"author\": \"John R. Kitchin\",\n",
    "    \"pages\": \"3894--3899\",\n",
    "    \"number\": \"6\",\n",
    "    \"volume\": \"5\",\n",
    "    \"publisher\": \"American Chemical Society ({ACS})\",\n",
    "    \"month\": \"may\",\n",
    "    \"year\": \"2015\",\n",
    "    \"url\": \"https://doi.org/10.1021%2Facscatal.5b00538\",\n",
    "    \"doi\": \"10.1021/acscatal.5b00538\",\n",
    "    \"ENTRYTYPE\": \"article\",\n",
    "    \"ID\": \"Kitchin_2015\",\n",
    "}\n",
    "\n",
    "RIS = [\n",
    "    \"TY  - JOUR\",\n",
    "    \"AU  - John R. Kitchin\",\n",
    "    \"PY  - 2015\",\n",
    "    \"TI  - Examples of Effective Data Sharing in Scientific Publishing\",\n",
    "    \"JO  - ACS Catalysis\",\n",
    "    \"VL  - 5\",\n",
    "    \"IS  - 6\",\n",
    "    \"SP  - 3894\",\n",
    "    \"EP  - 3899\",\n",
    "    \"DO  - https://doi.org/10.1021/acscatal.5b00538\",\n",
    "    \"ER  -\",\n",
    "]\n",
    "\n",
    "\n",
    "@pytest.fixture()\n",
    "def setup_bib():\n",
    "    \"\"\"Get a bibtex entry for a DOI.\"\"\"\n",
    "    return bib\n",
    "\n",
    "\n",
    "class TestBib:\n",
    "    \"\"\"Test a bibtex entry for a DOI.\"\"\"\n",
    "\n",
    "    def test_Bib(self, setup_bib):\n",
    "        \"\"\"Test a bibtex entry for a DOI.\"\"\"\n",
    "        w = Works(\"https://doi.org/10.1021/acscatal.5b00538\")\n",
    "        bib = w.get_bibtex()\n",
    "        assert bib == setup_bib\n",
    "\n",
    "\n",
    "@pytest.fixture()\n",
    "def setup_RIS():\n",
    "    \"\"\"Get an RIS for a DOI.\"\"\"\n",
    "    return RIS\n",
    "\n",
    "\n",
    "class TestRIS:\n",
    "    \"\"\"Test an RIS for a DOI.\"\"\"\n",
    "\n",
    "    def test_RIS(self, setup_RIS):\n",
    "        \"\"\"Test an RIS for a DOI.\"\"\"\n",
    "        w = Works(\"https://doi.org/10.1021/acscatal.5b00538\")\n",
    "        RIS = w.get_RIS()\n",
    "        assert RIS == setup_RIS"
   ]
  },
  {
   "cell_type": "code",
   "execution_count": 9,
   "id": "97c1b473-f84f-45f8-99dd-5c6cf5d22361",
   "metadata": {},
   "outputs": [
    {
     "name": "stdout",
     "output_type": "stream",
     "text": [
      "applypatch-msg.sample\n",
      "commit-msg.sample\n",
      "fsmonitor-watchman.sample\n",
      "post-update.sample\n",
      "pre-applypatch.sample\n",
      "pre-commit.sample\n",
      "pre-merge-commit.sample\n",
      "prepare-commit-msg.sample\n",
      "pre-push.sample\n",
      "pre-rebase.sample\n",
      "pre-receive.sample\n",
      "update.sample\n"
     ]
    }
   ],
   "source": [
    "%%bash\n",
    "git init\n",
    "git add .\n",
    "git commit -m \"Initial commit\"\n"
   ]
  },
  {
   "cell_type": "code",
   "execution_count": 11,
   "id": "e0a29d21-d25a-4ed2-8ebd-1d1330a3b0d8",
   "metadata": {},
   "outputs": [],
   "source": [
    "%%bash\n",
    "chmod +x pkg/.git/hooks/pre-commit"
   ]
  },
  {
   "cell_type": "code",
   "execution_count": 12,
   "id": "12e81bb5-67c0-4352-b9f6-90c778a0eeac",
   "metadata": {},
   "outputs": [
    {
     "name": "stderr",
     "output_type": "stream",
     "text": [
      "running precommit in /home/jupyter-ziangliu@andrew.cm-5e81f/s23-06682/assignments/project/pkg\n"
     ]
    },
    {
     "name": "stdout",
     "output_type": "stream",
     "text": [
      "[master (root-commit) 994f66e] adding pyfiles\n",
      " 1 file changed, 15 insertions(+)\n",
      " create mode 100644 setup.py\n"
     ]
    }
   ],
   "source": [
    "%%bash\n",
    "cd pkg\n",
    "git add *.py\n",
    "git commit -m \"adding pyfiles\""
   ]
  },
  {
   "cell_type": "code",
   "execution_count": 13,
   "id": "cc164bff-0403-4779-9d0b-02c61080c6fc",
   "metadata": {},
   "outputs": [
    {
     "name": "stdout",
     "output_type": "stream",
     "text": [
      "\u001b[1mAll done! ✨ 🍰 ✨\u001b[0m\n",
      "\u001b[34m5 files \u001b[0mleft unchanged.\n"
     ]
    }
   ],
   "source": [
    "! black pkg"
   ]
  },
  {
   "cell_type": "code",
   "execution_count": 14,
   "id": "37c134ed-28c1-45b2-b3b8-f76a0a67bde6",
   "metadata": {},
   "outputs": [
    {
     "name": "stdout",
     "output_type": "stream",
     "text": [
      "\u001b[1mAll done! ✨ 🍰 ✨\u001b[0m\n",
      "\u001b[34m5 files \u001b[0mleft unchanged.\n",
      "pkg/s23openalex/__init__.py:3:1: F401 '.works.Works' imported but unused\n"
     ]
    }
   ],
   "source": [
    "# ! black pkg && flake8 --exclude package/build pkg && pylint --ignore build pkg && pytest pkg\n",
    "# ! black pkg && flake8 pkg && pylint pkg && pytest pkg\n",
    "! black pkg && flake8 pkg && pylint pkg\n"
   ]
  },
  {
   "cell_type": "markdown",
   "id": "86f1057f-949c-4794-998f-32d70f34192f",
   "metadata": {},
   "source": [
    "%%writefile pkg/s23openalex/__init__.py\n",
    "from .works import Works\n",
    "\n"
   ]
  },
  {
   "cell_type": "markdown",
   "id": "bdae16a8-683f-4583-b045-ec75e2cd259c",
   "metadata": {},
   "source": [
    "# Clone the repo here\n",
    "\n",
    "You should clone your repo in this folder. Use the tree command to show your repo structure:\n",
    "\n",
    "    ! tree your-repo-name\n",
    "\n"
   ]
  },
  {
   "cell_type": "code",
   "execution_count": 15,
   "id": "abe4f2c2-a5f8-4388-9cf2-775a8fc5dd66",
   "metadata": {},
   "outputs": [
    {
     "name": "stdout",
     "output_type": "stream",
     "text": [
      "Defaulting to user installation because normal site-packages is not writeable\n",
      "Processing ./pkg\n",
      "  Preparing metadata (setup.py) ... \u001b[?25ldone\n",
      "\u001b[?25hBuilding wheels for collected packages: s23openalex\n",
      "  Building wheel for s23openalex (setup.py) ... \u001b[?25ldone\n",
      "\u001b[?25h  Created wheel for s23openalex: filename=s23openalex-0.0.1-py3-none-any.whl size=3342 sha256=de0addd26b1715e29741896612c088bc98e3f9edd6ffaf05a5e325fdd7ebc309\n",
      "  Stored in directory: /tmp/pip-ephem-wheel-cache-ecdwpa7n/wheels/a0/63/fe/330c167faff380d6feafcb5aed7af2fb1e123aeb5a729d6373\n",
      "Successfully built s23openalex\n",
      "Installing collected packages: s23openalex\n",
      "Successfully installed s23openalex-0.0.1\n"
     ]
    }
   ],
   "source": [
    "# This should install the s23openalex package\n",
    "!pip install ./pkg"
   ]
  },
  {
   "cell_type": "code",
   "execution_count": 16,
   "id": "a57330e7-9679-427b-bc58-a3d530ec376a",
   "metadata": {},
   "outputs": [
    {
     "name": "stdout",
     "output_type": "stream",
     "text": [
      "\u001b[01;34mpkg\u001b[00m\n",
      "├── \u001b[01;34mbuild\u001b[00m\n",
      "│   ├── \u001b[01;34mbdist.linux-x86_64\u001b[00m\n",
      "│   └── \u001b[01;34mlib\u001b[00m\n",
      "│       └── \u001b[01;34ms23openalex\u001b[00m\n",
      "│           ├── __init__.py\n",
      "│           ├── __main__.py\n",
      "│           ├── test_works.py\n",
      "│           └── works.py\n",
      "├── \u001b[01;34ms23openalex\u001b[00m\n",
      "│   ├── __init__.py\n",
      "│   ├── __main__.py\n",
      "│   ├── test_works.py\n",
      "│   └── works.py\n",
      "├── \u001b[01;34ms23openalex.egg-info\u001b[00m\n",
      "│   ├── dependency_links.txt\n",
      "│   ├── PKG-INFO\n",
      "│   ├── SOURCES.txt\n",
      "│   └── top_level.txt\n",
      "└── setup.py\n",
      "\n",
      "6 directories, 13 files\n"
     ]
    }
   ],
   "source": [
    "! tree pkg\n"
   ]
  },
  {
   "cell_type": "markdown",
   "id": "0d152ec2-3ce8-4b44-a26a-cd4648c5e0a7",
   "metadata": {},
   "source": [
    "# Show evidence that your repo passes black and pylint\n",
    "\n"
   ]
  },
  {
   "cell_type": "code",
   "execution_count": 17,
   "id": "567237fa-2a52-49d7-8bf4-d8a3e685c7d1",
   "metadata": {},
   "outputs": [
    {
     "name": "stdout",
     "output_type": "stream",
     "text": [
      "pylint 2.14.5\n",
      "astroid 2.11.7\n",
      "Python 3.9.7 | packaged by conda-forge | (default, Sep 29 2021, 19:20:46) \n",
      "[GCC 9.4.0]\n",
      "\u001b[0m"
     ]
    }
   ],
   "source": [
    "!pylint --version"
   ]
  },
  {
   "cell_type": "code",
   "execution_count": 30,
   "id": "728a40e2-d5cc-4302-afe0-07b6f199d48a",
   "metadata": {},
   "outputs": [
    {
     "name": "stdout",
     "output_type": "stream",
     "text": [
      "\u001b[1mAll done! ✨ 🍰 ✨\u001b[0m\n",
      "\u001b[34m5 files \u001b[0mleft unchanged.\n",
      "pkg/s23openalex/__init__.py:3:1: F401 '.works.Works' imported but unused\n",
      "pkg/build/lib/s23openalex/__init__.py:3:1: F401 '.works.Works' imported but unused\n"
     ]
    }
   ],
   "source": [
    "# %%bash\n",
    "# black pkg\n",
    "# pylint pkg\n",
    "\n",
    "! black pkg && flake8 pkg && pylint pkg"
   ]
  },
  {
   "cell_type": "markdown",
   "id": "0099e4dc-0e6f-4dc3-b329-b6f44247a769",
   "metadata": {
    "tags": []
   },
   "source": [
    "# Tests\n",
    "\n",
    "Create one or more tests in the repo that show your package works correctly. Show an example here that your tests work.\n",
    "\n"
   ]
  },
  {
   "cell_type": "code",
   "execution_count": 19,
   "id": "2313046e-03fb-4cd5-85eb-4325ebb16264",
   "metadata": {},
   "outputs": [
    {
     "name": "stdout",
     "output_type": "stream",
     "text": [
      "\u001b[1m============================= test session starts ==============================\u001b[0m\n",
      "platform linux -- Python 3.9.7, pytest-7.2.2, pluggy-1.0.0\n",
      "rootdir: /home/jupyter-ziangliu@andrew.cm-5e81f/s23-06682/assignments/project/pkg\n",
      "plugins: typeguard-2.13.3, anyio-3.6.1\n",
      "collected 2 items                                                              \u001b[0m\n",
      "\n",
      "pkg/s23openalex/test_works.py \u001b[32m.\u001b[0m\u001b[32m.\u001b[0m\u001b[32m                                         [100%]\u001b[0m\n",
      "\n",
      "\u001b[32m============================== \u001b[32m\u001b[1m2 passed\u001b[0m\u001b[32m in 0.89s\u001b[0m\u001b[32m ===============================\u001b[0m\n"
     ]
    }
   ],
   "source": [
    "! pytest pkg"
   ]
  },
  {
   "cell_type": "markdown",
   "id": "754ec2b7-d224-4f1c-ba44-5d08ca9ebfbc",
   "metadata": {},
   "source": [
    "# Make some examples of your package to show it works here\n",
    "\n",
    "Install the package, and show an example for each method (RIS, and bibtex). Provide some evidence that the examples work correctly and generate valid RIS and bibtex.\n",
    "\n"
   ]
  },
  {
   "cell_type": "code",
   "execution_count": 20,
   "id": "827b5819-efd5-4dc6-9367-dcd53b1d4474",
   "metadata": {},
   "outputs": [
    {
     "data": {
      "text/plain": [
       "{'journal': 'Physics World',\n",
       " 'title': 'Access all theses',\n",
       " 'author': 'Michael Banks',\n",
       " 'pages': '18--19',\n",
       " 'number': '11',\n",
       " 'volume': '20',\n",
       " 'publisher': '{IOP} Publishing',\n",
       " 'month': 'nov',\n",
       " 'year': '2007',\n",
       " 'url': 'https://doi.org/10.1088%2F2058-7058%2F20%2F11%2F28',\n",
       " 'doi': '10.1088/2058-7058/20/11/28',\n",
       " 'ENTRYTYPE': 'article',\n",
       " 'ID': 'Banks_2007'}"
      ]
     },
     "execution_count": 20,
     "metadata": {},
     "output_type": "execute_result"
    }
   ],
   "source": [
    "import s23openalex\n",
    "from s23openalex import Works\n",
    "w1 = Works('https://doi.org/10.1088/2058-7058/20/11/28')\n",
    "w1.get_bibtex()"
   ]
  },
  {
   "cell_type": "code",
   "execution_count": 21,
   "id": "8b368374-94b2-4467-a165-9a3b67d7173b",
   "metadata": {},
   "outputs": [
    {
     "data": {
      "text/plain": [
       "['TY  - JOUR',\n",
       " 'AU  - Michael Banks',\n",
       " 'PY  - 2007',\n",
       " 'TI  - Access all theses',\n",
       " 'JO  - Physics World',\n",
       " 'VL  - None',\n",
       " 'SP  - None',\n",
       " 'EP  - None',\n",
       " 'DO  - https://doi.org/10.1088/2058-7058/20/11/28',\n",
       " 'ER  -']"
      ]
     },
     "execution_count": 21,
     "metadata": {},
     "output_type": "execute_result"
    }
   ],
   "source": [
    "w1.get_RIS()"
   ]
  },
  {
   "cell_type": "code",
   "execution_count": 22,
   "id": "915165d3-3237-4155-a1f0-88b03121d228",
   "metadata": {},
   "outputs": [
    {
     "data": {
      "text/plain": [
       "{'journal': '{MNI} Open Research',\n",
       " 'title': 'From data sharing to data publishing',\n",
       " 'author': 'Jean-Baptiste Poline',\n",
       " 'pages': '1',\n",
       " 'volume': '2',\n",
       " 'publisher': 'F1000 Research Ltd',\n",
       " 'month': 'jan',\n",
       " 'year': '2018',\n",
       " 'url': 'https://doi.org/10.12688%2Fmniopenres.12772.1',\n",
       " 'doi': '10.12688/mniopenres.12772.1',\n",
       " 'ENTRYTYPE': 'article',\n",
       " 'ID': 'Poline_2018'}"
      ]
     },
     "execution_count": 22,
     "metadata": {},
     "output_type": "execute_result"
    }
   ],
   "source": [
    "w2 = Works('https://doi.org/10.12688/mniopenres.12772.1')\n",
    "w2.get_bibtex()"
   ]
  },
  {
   "cell_type": "code",
   "execution_count": 23,
   "id": "c5ed1883-d909-4ec5-82a8-89ce55abb268",
   "metadata": {},
   "outputs": [
    {
     "data": {
      "text/plain": [
       "['TY  - JOUR',\n",
       " 'AU  - Jean-Baptiste Poline',\n",
       " 'PY  - 2018',\n",
       " 'TI  - From data sharing to data publishing',\n",
       " 'JO  - MNI open research',\n",
       " 'VL  - 2',\n",
       " 'SP  - 1',\n",
       " 'EP  - 1',\n",
       " 'DO  - https://doi.org/10.12688/mniopenres.12772.1',\n",
       " 'ER  -']"
      ]
     },
     "execution_count": 23,
     "metadata": {},
     "output_type": "execute_result"
    }
   ],
   "source": [
    "w2.get_RIS()"
   ]
  },
  {
   "cell_type": "markdown",
   "id": "eedea211-d905-45f9-8358-f962dec6f934",
   "metadata": {},
   "source": [
    "# Show that the commandline utility works. \n",
    "\n",
    "Run the command you created and show that it outputs either RIS or bibtex for a DOI.\n",
    "\n"
   ]
  },
  {
   "cell_type": "code",
   "execution_count": 24,
   "id": "1adc2ac4-c39b-4fd3-92d1-33f19d29cf2d",
   "metadata": {},
   "outputs": [
    {
     "name": "stdout",
     "output_type": "stream",
     "text": [
      "['TY  - JOUR', 'AU  - Michael Banks', 'PY  - 2007', 'TI  - Access all theses', 'JO  - Physics World', 'VL  - None', 'SP  - None', 'EP  - None', 'DO  - https://doi.org/10.1088/2058-7058/20/11/28', 'ER  -']\n"
     ]
    }
   ],
   "source": [
    "! python -m s23openalex --RIS 'https://doi.org/10.1088/2058-7058/20/11/28'"
   ]
  },
  {
   "cell_type": "code",
   "execution_count": 28,
   "id": "ba401224-1508-4192-8872-3ccd10fe896d",
   "metadata": {},
   "outputs": [
    {
     "name": "stdout",
     "output_type": "stream",
     "text": [
      "{'journal': 'Physics World', 'title': 'Access all theses', 'author': 'Michael Banks', 'pages': '18--19', 'number': '11', 'volume': '20', 'publisher': '{IOP} Publishing', 'month': 'nov', 'year': '2007', 'url': 'https://doi.org/10.1088%2F2058-7058%2F20%2F11%2F28', 'doi': '10.1088/2058-7058/20/11/28', 'ENTRYTYPE': 'article', 'ID': 'Banks_2007'}\n"
     ]
    }
   ],
   "source": [
    "! python -m s23openalex --bib 'https://doi.org/10.1088/2058-7058/20/11/28'"
   ]
  },
  {
   "cell_type": "code",
   "execution_count": 26,
   "id": "ea556875-4675-4905-a9cd-d33aa3c78f8a",
   "metadata": {},
   "outputs": [
    {
     "name": "stdout",
     "output_type": "stream",
     "text": [
      "using webpdf\n"
     ]
    },
    {
     "data": {
      "text/markdown": [
       "[Open project.pdf](project.pdf)"
      ],
      "text/plain": [
       "<IPython.core.display.Markdown object>"
      ]
     },
     "metadata": {},
     "output_type": "display_data"
    },
    {
     "data": {
      "text/html": [
       "from webpdf<br><a href=\"project.pdf\" download=\"project.pdf\">download project.pdf</a>"
      ],
      "text/plain": [
       "<IPython.core.display.HTML object>"
      ]
     },
     "metadata": {},
     "output_type": "display_data"
    }
   ],
   "source": [
    "# Run this cell to generate a pdf from this notebook\n",
    "# Click the generated links to preview and download it.\n",
    "# Report errors to Professor Kitchin\n",
    "from s23 import pdf\n",
    "%pdf\n",
    "\n"
   ]
  }
 ],
 "metadata": {
  "kernelspec": {
   "display_name": "Python 3",
   "language": "python",
   "name": "python3"
  },
  "language_info": {
   "codemirror_mode": {
    "name": "ipython",
    "version": 3
   },
   "file_extension": ".py",
   "mimetype": "text/x-python",
   "name": "python",
   "nbconvert_exporter": "python",
   "pygments_lexer": "ipython3",
   "version": "3.9.7"
  },
  "widgets": {
   "application/vnd.jupyter.widget-state+json": {
    "state": {},
    "version_major": 2,
    "version_minor": 0
   }
  }
 },
 "nbformat": 4,
 "nbformat_minor": 5
}
