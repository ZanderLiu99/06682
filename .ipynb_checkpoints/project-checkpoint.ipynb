{
 "cells": [
  {
   "cell_type": "markdown",
   "id": "d7a1aa40",
   "metadata": {},
   "source": [
    "Before you turn this problem in, make sure everything runs as expected. First, **restart the kernel** (in the menubar, select Kernel$\\rightarrow$Restart) and then **run all cells** (in the menubar, select Cell$\\rightarrow$Run All).\n",
    "\n",
    "Make sure you fill in any place that says `YOUR CODE HERE` or \"YOUR ANSWER HERE\", as well as your name and collaborators below:\n",
    "\n"
   ]
  },
  {
   "cell_type": "code",
   "execution_count": 1,
   "id": "63bcd485",
   "metadata": {},
   "outputs": [],
   "source": [
    "NAME = \"Ziang Liu\"\n",
    "\n"
   ]
  },
  {
   "cell_type": "markdown",
   "id": "0321e073",
   "metadata": {},
   "source": [
    "---\n",
    "\n"
   ]
  },
  {
   "cell_type": "markdown",
   "id": "e2ca97db-b880-41d9-aad4-755acca358d1",
   "metadata": {},
   "source": [
    "Project\n",
    "=======\n",
    "\n",
    "The final project is to create a small Python package for OpenAlex based on what we have learned so far. You will create the package and host it on GitHUB. You will turn in a pdf of this notebook.\n",
    "\n",
    "Your tasks are:\n",
    "1. Create a pip installable Python package in a GitHUB repo that provides an OpenAlex Works class. The class should have methods to get an RIS and a bibtex entry for a DOI. You can reuse code from previous assignments and lectures. Your class should also have a command line utility that prints RIS or bibtex to the terminal. \n",
    "2. Your package must have some tests that show at least some part of the package works correctly.\n",
    "3. You should make sure your repo passes black and pylint. Your code should pass both of these.\n",
    "4. You should setup a GitHUB action that runs your tests\n",
    "5. You should add an Actions status badge that shows in the README.\n",
    "6. Your package should also have a license.\n",
    "\n",
    "Put the URL to your repo in the next cell:\n",
    "\n"
   ]
  },
  {
   "cell_type": "code",
   "execution_count": 2,
   "id": "e519cca5-3d1a-42f8-912f-c82c7f249250",
   "metadata": {},
   "outputs": [
    {
     "name": "stdout",
     "output_type": "stream",
     "text": [
      "Found existing installation: s23openalex 0.0.1\n",
      "Uninstalling s23openalex-0.0.1:\n",
      "  Successfully uninstalled s23openalex-0.0.1\n"
     ]
    }
   ],
   "source": [
    "%%bash\n",
    "# Clean up any existing files\n",
    "rm -rf pkg\n",
    "pip uninstall -y s23openalex"
   ]
  },
  {
   "cell_type": "code",
   "execution_count": 3,
   "id": "d0cf028a-567f-4b2a-82e7-f140cad39024",
   "metadata": {},
   "outputs": [],
   "source": [
    "mkdir -p pkg/s23openalex\n"
   ]
  },
  {
   "cell_type": "code",
   "execution_count": 4,
   "id": "3777fd3b-352e-4195-bcb8-bc915b3dc10c",
   "metadata": {},
   "outputs": [
    {
     "name": "stdout",
     "output_type": "stream",
     "text": [
      "Writing pkg/setup.py\n"
     ]
    }
   ],
   "source": [
    "%%writefile pkg/setup.py\n",
    "\"\"\"This file help to setup.\"\"\"\n",
    "\n",
    "from setuptools import setup\n",
    "\n",
    "setup(\n",
    "    name=\"s23openalex\",\n",
    "    version=\"0.0.1\",\n",
    "    description=\"bibtex and RIS\",\n",
    "    maintainer=\"Ziang Liu\",\n",
    "    maintainer_email=\"ziangliu@andrew.cmu.edu\",\n",
    "    license=\"MIT\",\n",
    "    packages=[\"s23openalex\"],\n",
    "    scripts=[],\n",
    "    long_description=\"\"\"get an RIS and a bibtex entry for a DOI\"\"\",\n",
    ")"
   ]
  },
  {
   "cell_type": "code",
   "execution_count": 5,
   "id": "cc9819d2-6164-463b-b2b0-c74be29da11c",
   "metadata": {},
   "outputs": [
    {
     "name": "stdout",
     "output_type": "stream",
     "text": [
      "Writing pkg/s23openalex/works.py\n"
     ]
    }
   ],
   "source": [
    "%%writefile pkg/s23openalex/works.py\n",
    "\"\"\"This file could get an RIS and a bibtex entry for a DOI.\"\"\"\n",
    "\n",
    "import requests\n",
    "import bibtexparser\n",
    "\n",
    "\n",
    "class Works:\n",
    "    \"\"\"This class could get an RIS and a bibtex entry for a DOI.\"\"\"\n",
    "\n",
    "    def __init__(self, oaid):\n",
    "        \"\"\"Get an RIS and a bibtex entry for a DOI.\"\"\"\n",
    "        self.oaid = oaid\n",
    "        self.req = requests.get(f\"https://api.openalex.org/works/{oaid}\")\n",
    "        self.data = self.req.json()\n",
    "\n",
    "    #         # get bibtex\n",
    "    #         h = \"application/x-bibtex\"\n",
    "    #         res = requests.get(self.data[\"doi\"], headers={\"Accept\": h})\n",
    "    #         db = bibtexparser.loads(res.text)\n",
    "    #         self.bibtex = db.entries[0]\n",
    "\n",
    "    #         # get RIS\n",
    "\n",
    "    #         fields = []\n",
    "    #         if self.data[\"type\"] == \"journal-article\":\n",
    "    #             fields += [\"TY  - JOUR\"]\n",
    "    #         else:\n",
    "    #             raise Exception(\"Unsupported type {self.data['type']}\")\n",
    "\n",
    "    #         for author in self.data[\"authorships\"]:\n",
    "    #             fields += [f'AU  - {author[\"author\"][\"display_name\"]}']\n",
    "\n",
    "    #         fields += [f'PY  - {self.data[\"publication_year\"]}']\n",
    "    #         fields += [f'TI  - {self.data[\"title\"]}']\n",
    "    #         fields += [f'JO  - {self.data[\"host_venue\"][\"display_name\"]}']\n",
    "    #         fields += [f'VL  - {self.data[\"biblio\"][\"volume\"]}']\n",
    "\n",
    "    #         if self.data[\"biblio\"][\"issue\"]:\n",
    "    #             fields += [f'IS  - {self.data[\"biblio\"][\"issue\"]}']\n",
    "\n",
    "    #         fields += [f'SP  - {self.data[\"biblio\"][\"first_page\"]}']\n",
    "    #         fields += [f'EP  - {self.data[\"biblio\"][\"last_page\"]}']\n",
    "    #         fields += [f'DO  - {self.data[\"doi\"]}']\n",
    "    #         fields += [\"ER  -\"]\n",
    "\n",
    "    #         self.ris = fields\n",
    "    def get_bibtex(self):\n",
    "        \"\"\"Get a bibtex entry for a DOI.\"\"\"\n",
    "        h = \"application/x-bibtex\"\n",
    "        res = requests.get(self.data[\"doi\"], headers={\"Accept\": h})\n",
    "        db = bibtexparser.loads(res.text)\n",
    "        self.bibtex = db.entries[0]\n",
    "        return self.bibtex\n",
    "\n",
    "    def get_RIS(self):\n",
    "        \"\"\"Get an RIS for a DOI.\"\"\"\n",
    "        fields = []\n",
    "        if self.data[\"type\"] == \"journal-article\":\n",
    "            fields += [\"TY  - JOUR\"]\n",
    "        else:\n",
    "            raise Exception(\"Unsupported type {self.data['type']}\")\n",
    "\n",
    "        for author in self.data[\"authorships\"]:\n",
    "            fields += [f'AU  - {author[\"author\"][\"display_name\"]}']\n",
    "\n",
    "        fields += [f'PY  - {self.data[\"publication_year\"]}']\n",
    "        fields += [f'TI  - {self.data[\"title\"]}']\n",
    "        fields += [f'JO  - {self.data[\"host_venue\"][\"display_name\"]}']\n",
    "        fields += [f'VL  - {self.data[\"biblio\"][\"volume\"]}']\n",
    "\n",
    "        if self.data[\"biblio\"][\"issue\"]:\n",
    "            fields += [f'IS  - {self.data[\"biblio\"][\"issue\"]}']\n",
    "\n",
    "        fields += [f'SP  - {self.data[\"biblio\"][\"first_page\"]}']\n",
    "        fields += [f'EP  - {self.data[\"biblio\"][\"last_page\"]}']\n",
    "        fields += [f'DO  - {self.data[\"doi\"]}']\n",
    "        fields += [\"ER  -\"]\n",
    "\n",
    "        self.ris = fields\n",
    "        return self.ris\n",
    "        "
   ]
  },
  {
   "cell_type": "code",
   "execution_count": 6,
   "id": "7e7eb9d3-bf69-4927-844d-bd9da76311be",
   "metadata": {},
   "outputs": [
    {
     "name": "stdout",
     "output_type": "stream",
     "text": [
      "Writing pkg/s23openalex/__init__.py\n"
     ]
    }
   ],
   "source": [
    "%%writefile pkg/s23openalex/__init__.py\n",
    "\"\"\"This file start the pkg.\"\"\"\n",
    "\n",
    "from .works import Works"
   ]
  },
  {
   "cell_type": "code",
   "execution_count": 7,
   "id": "d272a38e-71f1-48a0-a348-44cd0578e1fc",
   "metadata": {},
   "outputs": [
    {
     "name": "stdout",
     "output_type": "stream",
     "text": [
      "Writing pkg/s23openalex/test_works.py\n"
     ]
    }
   ],
   "source": [
    "%%writefile pkg/s23openalex/test_works.py\n",
    "\"\"\"This file test the works.\"\"\"\n",
    "\n",
    "import pytest\n",
    "from s23openalex import Works\n",
    "\n",
    "bib = {'journal': '{ACS} Catalysis',\n",
    " 'title': 'Examples of Effective Data Sharing in Scientific Publishing',\n",
    " 'author': 'John R. Kitchin',\n",
    " 'pages': '3894--3899',\n",
    " 'number': '6',\n",
    " 'volume': '5',\n",
    " 'publisher': 'American Chemical Society ({ACS})',\n",
    " 'month': 'may',\n",
    " 'year': '2015',\n",
    " 'url': 'https://doi.org/10.1021%2Facscatal.5b00538',\n",
    " 'doi': '10.1021/acscatal.5b00538',\n",
    " 'ENTRYTYPE': 'article',\n",
    " 'ID': 'Kitchin_2015'}\n",
    "\n",
    "@pytest.fixture()\n",
    "def setup():\n",
    "    return bib\n",
    "    \n",
    "class TestSort:\n",
    "    def test_sort(self):\n",
    "        w\n",
    "        entries = sort_bibtex('test.bib')\n",
    "        assert [e['year'] for e in entries] == ['2015', '2018']  "
   ]
  },
  {
   "cell_type": "code",
   "execution_count": 8,
   "id": "cc164bff-0403-4779-9d0b-02c61080c6fc",
   "metadata": {},
   "outputs": [
    {
     "name": "stdout",
     "output_type": "stream",
     "text": [
      "--- pkg/s23openalex/test_works.py\t2023-04-28 22:59:15.332571 +0000\n",
      "+++ pkg/s23openalex/test_works.py\t2023-04-28 22:59:15.506977 +0000\n",
      "@@ -1,28 +1,32 @@\n",
      " \"\"\"This file test the works.\"\"\"\n",
      " \n",
      " import pytest\n",
      " from s23openalex import Works\n",
      " \n",
      "-bib = {'journal': '{ACS} Catalysis',\n",
      "- 'title': 'Examples of Effective Data Sharing in Scientific Publishing',\n",
      "- 'author': 'John R. Kitchin',\n",
      "- 'pages': '3894--3899',\n",
      "- 'number': '6',\n",
      "- 'volume': '5',\n",
      "- 'publisher': 'American Chemical Society ({ACS})',\n",
      "- 'month': 'may',\n",
      "- 'year': '2015',\n",
      "- 'url': 'https://doi.org/10.1021%2Facscatal.5b00538',\n",
      "- 'doi': '10.1021/acscatal.5b00538',\n",
      "- 'ENTRYTYPE': 'article',\n",
      "- 'ID': 'Kitchin_2015'}\n",
      "+bib = {\n",
      "+    \"journal\": \"{ACS} Catalysis\",\n",
      "+    \"title\": \"Examples of Effective Data Sharing in Scientific Publishing\",\n",
      "+    \"author\": \"John R. Kitchin\",\n",
      "+    \"pages\": \"3894--3899\",\n",
      "+    \"number\": \"6\",\n",
      "+    \"volume\": \"5\",\n",
      "+    \"publisher\": \"American Chemical Society ({ACS})\",\n",
      "+    \"month\": \"may\",\n",
      "+    \"year\": \"2015\",\n",
      "+    \"url\": \"https://doi.org/10.1021%2Facscatal.5b00538\",\n",
      "+    \"doi\": \"10.1021/acscatal.5b00538\",\n",
      "+    \"ENTRYTYPE\": \"article\",\n",
      "+    \"ID\": \"Kitchin_2015\",\n",
      "+}\n",
      "+\n",
      " \n",
      " @pytest.fixture()\n",
      " def setup():\n",
      "     return bib\n",
      "-    \n",
      "+\n",
      "+\n",
      " class TestSort:\n",
      "     def test_sort(self):\n",
      "         w\n",
      "-        entries = sort_bibtex('test.bib')\n",
      "-        assert [e['year'] for e in entries] == ['2015', '2018']  \n",
      "+        entries = sort_bibtex(\"test.bib\")\n",
      "+        assert [e[\"year\"] for e in entries] == [\"2015\", \"2018\"]\n",
      "\u001b[1mwould reformat pkg/s23openalex/test_works.py\u001b[0m\n",
      "--- pkg/s23openalex/works.py\t2023-04-28 22:59:15.324571 +0000\n",
      "+++ pkg/s23openalex/works.py\t2023-04-28 22:59:15.522794 +0000\n",
      "@@ -11,49 +11,49 @@\n",
      "         \"\"\"Get an RIS and a bibtex entry for a DOI.\"\"\"\n",
      "         self.oaid = oaid\n",
      "         self.req = requests.get(f\"https://api.openalex.org/works/{oaid}\")\n",
      "         self.data = self.req.json()\n",
      " \n",
      "-#         # get bibtex\n",
      "-#         h = \"application/x-bibtex\"\n",
      "-#         res = requests.get(self.data[\"doi\"], headers={\"Accept\": h})\n",
      "-#         db = bibtexparser.loads(res.text)\n",
      "-#         self.bibtex = db.entries[0]\n",
      "+    #         # get bibtex\n",
      "+    #         h = \"application/x-bibtex\"\n",
      "+    #         res = requests.get(self.data[\"doi\"], headers={\"Accept\": h})\n",
      "+    #         db = bibtexparser.loads(res.text)\n",
      "+    #         self.bibtex = db.entries[0]\n",
      " \n",
      "-#         # get RIS\n",
      "+    #         # get RIS\n",
      " \n",
      "-#         fields = []\n",
      "-#         if self.data[\"type\"] == \"journal-article\":\n",
      "-#             fields += [\"TY  - JOUR\"]\n",
      "-#         else:\n",
      "-#             raise Exception(\"Unsupported type {self.data['type']}\")\n",
      "+    #         fields = []\n",
      "+    #         if self.data[\"type\"] == \"journal-article\":\n",
      "+    #             fields += [\"TY  - JOUR\"]\n",
      "+    #         else:\n",
      "+    #             raise Exception(\"Unsupported type {self.data['type']}\")\n",
      " \n",
      "-#         for author in self.data[\"authorships\"]:\n",
      "-#             fields += [f'AU  - {author[\"author\"][\"display_name\"]}']\n",
      "+    #         for author in self.data[\"authorships\"]:\n",
      "+    #             fields += [f'AU  - {author[\"author\"][\"display_name\"]}']\n",
      " \n",
      "-#         fields += [f'PY  - {self.data[\"publication_year\"]}']\n",
      "-#         fields += [f'TI  - {self.data[\"title\"]}']\n",
      "-#         fields += [f'JO  - {self.data[\"host_venue\"][\"display_name\"]}']\n",
      "-#         fields += [f'VL  - {self.data[\"biblio\"][\"volume\"]}']\n",
      "+    #         fields += [f'PY  - {self.data[\"publication_year\"]}']\n",
      "+    #         fields += [f'TI  - {self.data[\"title\"]}']\n",
      "+    #         fields += [f'JO  - {self.data[\"host_venue\"][\"display_name\"]}']\n",
      "+    #         fields += [f'VL  - {self.data[\"biblio\"][\"volume\"]}']\n",
      " \n",
      "-#         if self.data[\"biblio\"][\"issue\"]:\n",
      "-#             fields += [f'IS  - {self.data[\"biblio\"][\"issue\"]}']\n",
      "+    #         if self.data[\"biblio\"][\"issue\"]:\n",
      "+    #             fields += [f'IS  - {self.data[\"biblio\"][\"issue\"]}']\n",
      " \n",
      "-#         fields += [f'SP  - {self.data[\"biblio\"][\"first_page\"]}']\n",
      "-#         fields += [f'EP  - {self.data[\"biblio\"][\"last_page\"]}']\n",
      "-#         fields += [f'DO  - {self.data[\"doi\"]}']\n",
      "-#         fields += [\"ER  -\"]\n",
      "+    #         fields += [f'SP  - {self.data[\"biblio\"][\"first_page\"]}']\n",
      "+    #         fields += [f'EP  - {self.data[\"biblio\"][\"last_page\"]}']\n",
      "+    #         fields += [f'DO  - {self.data[\"doi\"]}']\n",
      "+    #         fields += [\"ER  -\"]\n",
      " \n",
      "-#         self.ris = fields\n",
      "+    #         self.ris = fields\n",
      "     def get_bibtex(self):\n",
      "         \"\"\"Get a bibtex entry for a DOI.\"\"\"\n",
      "         h = \"application/x-bibtex\"\n",
      "         res = requests.get(self.data[\"doi\"], headers={\"Accept\": h})\n",
      "         db = bibtexparser.loads(res.text)\n",
      "         self.bibtex = db.entries[0]\n",
      "         return self.bibtex\n",
      "-    \n",
      "+\n",
      "     def get_RIS(self):\n",
      "         \"\"\"Get an RIS for a DOI.\"\"\"\n",
      "         fields = []\n",
      "         if self.data[\"type\"] == \"journal-article\":\n",
      "             fields += [\"TY  - JOUR\"]\n",
      "@@ -75,6 +75,5 @@\n",
      "         fields += [f'EP  - {self.data[\"biblio\"][\"last_page\"]}']\n",
      "         fields += [f'DO  - {self.data[\"doi\"]}']\n",
      "         fields += [\"ER  -\"]\n",
      " \n",
      "         self.ris = fields\n",
      "-        \n",
      "\u001b[1mwould reformat pkg/s23openalex/works.py\u001b[0m\n",
      "\n",
      "\u001b[1mAll done! ✨ 🍰 ✨\u001b[0m\n",
      "\u001b[34m\u001b[1m2 files \u001b[0m\u001b[1mwould be reformatted\u001b[0m, \u001b[34m2 files \u001b[0mwould be left unchanged.\n"
     ]
    }
   ],
   "source": [
    "! black pkg"
   ]
  },
  {
   "cell_type": "code",
   "execution_count": 9,
   "id": "74038d59-f2cb-4fb9-89f7-10950e9ee02a",
   "metadata": {},
   "outputs": [],
   "source": [
    "# ! black pkg"
   ]
  },
  {
   "cell_type": "code",
   "execution_count": 19,
   "id": "bcffc8cd-da52-4af3-a3b1-e3aa746c81a6",
   "metadata": {},
   "outputs": [
    {
     "name": "stdout",
     "output_type": "stream",
     "text": [
      "\"\"\"This file could get an RIS and a bibtex entry for a DOI.\"\"\"\n",
      "\n",
      "import requests\n",
      "import bibtexparser\n",
      "\n",
      "\n",
      "class Works:\n",
      "    \"\"\"This class could get an RIS and a bibtex entry for a DOI.\"\"\"\n",
      "\n",
      "    def __init__(self, oaid):\n",
      "        \"\"\"Get an RIS and a bibtex entry for a DOI.\"\"\"\n",
      "        self.oaid = oaid\n",
      "        self.req = requests.get(f\"https://api.openalex.org/works/{oaid}\")\n",
      "        self.data = self.req.json()\n",
      "\n",
      "    #         # get bibtex\n",
      "    #         h = \"application/x-bibtex\"\n",
      "    #         res = requests.get(self.data[\"doi\"], headers={\"Accept\": h})\n",
      "    #         db = bibtexparser.loads(res.text)\n",
      "    #         self.bibtex = db.entries[0]\n",
      "\n",
      "    #         # get RIS\n",
      "\n",
      "    #         fields = []\n",
      "    #         if self.data[\"type\"] == \"journal-article\":\n",
      "    #             fields += [\"TY  - JOUR\"]\n",
      "    #         else:\n",
      "    #             raise Exception(\"Unsupported type {self.data['type']}\")\n",
      "\n",
      "    #         for author in self.data[\"authorships\"]:\n",
      "    #             fields += [f'AU  - {author[\"author\"][\"display_name\"]}']\n",
      "\n",
      "    #         fields += [f'PY  - {self.data[\"publication_year\"]}']\n",
      "    #         fields += [f'TI  - {self.data[\"title\"]}']\n",
      "    #         fields += [f'JO  - {self.data[\"host_venue\"][\"display_name\"]}']\n",
      "    #         fields += [f'VL  - {self.data[\"biblio\"][\"volume\"]}']\n",
      "\n",
      "    #         if self.data[\"biblio\"][\"issue\"]:\n",
      "    #             fields += [f'IS  - {self.data[\"biblio\"][\"issue\"]}']\n",
      "\n",
      "    #         fields += [f'SP  - {self.data[\"biblio\"][\"first_page\"]}']\n",
      "    #         fields += [f'EP  - {self.data[\"biblio\"][\"last_page\"]}']\n",
      "    #         fields += [f'DO  - {self.data[\"doi\"]}']\n",
      "    #         fields += [\"ER  -\"]\n",
      "\n",
      "    #         self.ris = fields\n",
      "    def get_bibtex(self):\n",
      "        \"\"\"Get a bibtex entry for a DOI.\"\"\"\n",
      "        h = \"application/x-bibtex\"\n",
      "        res = requests.get(self.data[\"doi\"], headers={\"Accept\": h})\n",
      "        db = bibtexparser.loads(res.text)\n",
      "        self.bibtex = db.entries[0]\n",
      "        return self.bibtex\n",
      "\n",
      "    def get_RIS(self):\n",
      "        \"\"\"Get an RIS for a DOI.\"\"\"\n",
      "        fields = []\n",
      "        if self.data[\"type\"] == \"journal-article\":\n",
      "            fields += [\"TY  - JOUR\"]\n",
      "        else:\n",
      "            raise Exception(\"Unsupported type {self.data['type']}\")\n",
      "\n",
      "        for author in self.data[\"authorships\"]:\n",
      "            fields += [f'AU  - {author[\"author\"][\"display_name\"]}']\n",
      "\n",
      "        fields += [f'PY  - {self.data[\"publication_year\"]}']\n",
      "        fields += [f'TI  - {self.data[\"title\"]}']\n",
      "        fields += [f'JO  - {self.data[\"host_venue\"][\"display_name\"]}']\n",
      "        fields += [f'VL  - {self.data[\"biblio\"][\"volume\"]}']\n",
      "\n",
      "        if self.data[\"biblio\"][\"issue\"]:\n",
      "            fields += [f'IS  - {self.data[\"biblio\"][\"issue\"]}']\n",
      "\n",
      "        fields += [f'SP  - {self.data[\"biblio\"][\"first_page\"]}']\n",
      "        fields += [f'EP  - {self.data[\"biblio\"][\"last_page\"]}']\n",
      "        fields += [f'DO  - {self.data[\"doi\"]}']\n",
      "        fields += [\"ER  -\"]\n",
      "\n",
      "        self.ris = fields\n"
     ]
    }
   ],
   "source": [
    "! cat pkg/s23openalex/works.py"
   ]
  },
  {
   "cell_type": "code",
   "execution_count": 11,
   "id": "37c134ed-28c1-45b2-b3b8-f76a0a67bde6",
   "metadata": {},
   "outputs": [
    {
     "name": "stdout",
     "output_type": "stream",
     "text": [
      "\u001b[1mreformatted pkg/s23openalex/test_works.py\u001b[0m\n",
      "\u001b[1mreformatted pkg/s23openalex/works.py\u001b[0m\n",
      "\n",
      "\u001b[1mAll done! ✨ 🍰 ✨\u001b[0m\n",
      "\u001b[34m\u001b[1m2 files \u001b[0m\u001b[1mreformatted\u001b[0m, \u001b[34m2 files \u001b[0mleft unchanged.\n",
      "pkg/s23openalex/test_works.py:4:1: F401 's23openalex.Works' imported but unused\n",
      "pkg/s23openalex/test_works.py:24:1: D103 Missing docstring in public function\n",
      "pkg/s23openalex/test_works.py:28:1: D101 Missing docstring in public class\n",
      "pkg/s23openalex/test_works.py:29:1: D102 Missing docstring in public method\n",
      "pkg/s23openalex/test_works.py:30:9: F821 undefined name 'w'\n",
      "pkg/s23openalex/test_works.py:31:19: F821 undefined name 'sort_bibtex'\n",
      "pkg/s23openalex/__init__.py:3:1: F401 '.works.Works' imported but unused\n"
     ]
    }
   ],
   "source": [
    "# ! black pkg && flake8 --exclude package/build pkg && pylint --ignore build pkg && pytest pkg\n",
    "! black pkg && flake8 pkg && pylint pkg && pytest pkg\n"
   ]
  },
  {
   "cell_type": "markdown",
   "id": "86f1057f-949c-4794-998f-32d70f34192f",
   "metadata": {},
   "source": [
    "%%writefile pkg/s23openalex/__init__.py\n",
    "from .works import Works\n",
    "\n"
   ]
  },
  {
   "cell_type": "markdown",
   "id": "bdae16a8-683f-4583-b045-ec75e2cd259c",
   "metadata": {},
   "source": [
    "# Clone the repo here\n",
    "\n",
    "You should clone your repo in this folder. Use the tree command to show your repo structure:\n",
    "\n",
    "    ! tree your-repo-name\n",
    "\n"
   ]
  },
  {
   "cell_type": "code",
   "execution_count": 12,
   "id": "abe4f2c2-a5f8-4388-9cf2-775a8fc5dd66",
   "metadata": {},
   "outputs": [
    {
     "name": "stdout",
     "output_type": "stream",
     "text": [
      "Defaulting to user installation because normal site-packages is not writeable\n",
      "Processing ./pkg\n",
      "  Preparing metadata (setup.py) ... \u001b[?25ldone\n",
      "\u001b[?25hBuilding wheels for collected packages: s23openalex\n",
      "  Building wheel for s23openalex (setup.py) ... \u001b[?25ldone\n",
      "\u001b[?25h  Created wheel for s23openalex: filename=s23openalex-0.0.1-py3-none-any.whl size=2802 sha256=611dd1dee4bec7273d3fe02a109d579ddd4fe9dd22aad709fc3704291a2843f6\n",
      "  Stored in directory: /tmp/pip-ephem-wheel-cache-v2p78z_6/wheels/a0/63/fe/330c167faff380d6feafcb5aed7af2fb1e123aeb5a729d6373\n",
      "Successfully built s23openalex\n",
      "Installing collected packages: s23openalex\n",
      "Successfully installed s23openalex-0.0.1\n"
     ]
    }
   ],
   "source": [
    "# This should install the s23openalex package\n",
    "!pip install ./pkg"
   ]
  },
  {
   "cell_type": "code",
   "execution_count": 13,
   "id": "a57330e7-9679-427b-bc58-a3d530ec376a",
   "metadata": {},
   "outputs": [
    {
     "name": "stdout",
     "output_type": "stream",
     "text": [
      "\u001b[01;34mpkg\u001b[00m\n",
      "├── \u001b[01;34mbuild\u001b[00m\n",
      "│   ├── \u001b[01;34mbdist.linux-x86_64\u001b[00m\n",
      "│   └── \u001b[01;34mlib\u001b[00m\n",
      "│       └── \u001b[01;34ms23openalex\u001b[00m\n",
      "│           ├── __init__.py\n",
      "│           ├── test_works.py\n",
      "│           └── works.py\n",
      "├── \u001b[01;34ms23openalex\u001b[00m\n",
      "│   ├── __init__.py\n",
      "│   ├── test_works.py\n",
      "│   └── works.py\n",
      "├── \u001b[01;34ms23openalex.egg-info\u001b[00m\n",
      "│   ├── dependency_links.txt\n",
      "│   ├── PKG-INFO\n",
      "│   ├── SOURCES.txt\n",
      "│   └── top_level.txt\n",
      "└── setup.py\n",
      "\n",
      "6 directories, 11 files\n"
     ]
    }
   ],
   "source": [
    "! tree pkg\n"
   ]
  },
  {
   "cell_type": "markdown",
   "id": "0d152ec2-3ce8-4b44-a26a-cd4648c5e0a7",
   "metadata": {},
   "source": [
    "# Show evidence that your repo passes black and pylint\n",
    "\n"
   ]
  },
  {
   "cell_type": "code",
   "execution_count": 14,
   "id": "567237fa-2a52-49d7-8bf4-d8a3e685c7d1",
   "metadata": {},
   "outputs": [
    {
     "name": "stdout",
     "output_type": "stream",
     "text": [
      "pylint 2.14.5\n",
      "astroid 2.11.7\n",
      "Python 3.9.7 | packaged by conda-forge | (default, Sep 29 2021, 19:20:46) \n",
      "[GCC 9.4.0]\n",
      "\u001b[0m"
     ]
    }
   ],
   "source": [
    "!pylint --version"
   ]
  },
  {
   "cell_type": "code",
   "execution_count": 15,
   "id": "728a40e2-d5cc-4302-afe0-07b6f199d48a",
   "metadata": {},
   "outputs": [
    {
     "name": "stdout",
     "output_type": "stream",
     "text": [
      "************* Module pkg\n",
      "pkg/__init__.py:1:0: F0010: error while code parsing: Unable to load file pkg/__init__.py:\n",
      "[Errno 2] No such file or directory: 'pkg/__init__.py' (parse-error)\n"
     ]
    },
    {
     "ename": "CalledProcessError",
     "evalue": "Command 'b'# black pkg\\npylint pkg\\n\\n# ! black pkg &&  pylint pkg\\n'' returned non-zero exit status 1.",
     "output_type": "error",
     "traceback": [
      "\u001b[0;31m---------------------------------------------------------------------------\u001b[0m",
      "\u001b[0;31mCalledProcessError\u001b[0m                        Traceback (most recent call last)",
      "Input \u001b[0;32mIn [15]\u001b[0m, in \u001b[0;36m<cell line: 1>\u001b[0;34m()\u001b[0m\n\u001b[0;32m----> 1\u001b[0m \u001b[43mget_ipython\u001b[49m\u001b[43m(\u001b[49m\u001b[43m)\u001b[49m\u001b[38;5;241;43m.\u001b[39;49m\u001b[43mrun_cell_magic\u001b[49m\u001b[43m(\u001b[49m\u001b[38;5;124;43m'\u001b[39;49m\u001b[38;5;124;43mbash\u001b[39;49m\u001b[38;5;124;43m'\u001b[39;49m\u001b[43m,\u001b[49m\u001b[43m \u001b[49m\u001b[38;5;124;43m'\u001b[39;49m\u001b[38;5;124;43m'\u001b[39;49m\u001b[43m,\u001b[49m\u001b[43m \u001b[49m\u001b[38;5;124;43m'\u001b[39;49m\u001b[38;5;124;43m# black pkg\u001b[39;49m\u001b[38;5;130;43;01m\\n\u001b[39;49;00m\u001b[38;5;124;43mpylint pkg\u001b[39;49m\u001b[38;5;130;43;01m\\n\u001b[39;49;00m\u001b[38;5;130;43;01m\\n\u001b[39;49;00m\u001b[38;5;124;43m# ! black pkg &&  pylint pkg\u001b[39;49m\u001b[38;5;130;43;01m\\n\u001b[39;49;00m\u001b[38;5;124;43m'\u001b[39;49m\u001b[43m)\u001b[49m\n",
      "File \u001b[0;32m/opt/tljh/user/lib/python3.9/site-packages/IPython/core/interactiveshell.py:2358\u001b[0m, in \u001b[0;36mInteractiveShell.run_cell_magic\u001b[0;34m(self, magic_name, line, cell)\u001b[0m\n\u001b[1;32m   2356\u001b[0m \u001b[38;5;28;01mwith\u001b[39;00m \u001b[38;5;28mself\u001b[39m\u001b[38;5;241m.\u001b[39mbuiltin_trap:\n\u001b[1;32m   2357\u001b[0m     args \u001b[38;5;241m=\u001b[39m (magic_arg_s, cell)\n\u001b[0;32m-> 2358\u001b[0m     result \u001b[38;5;241m=\u001b[39m \u001b[43mfn\u001b[49m\u001b[43m(\u001b[49m\u001b[38;5;241;43m*\u001b[39;49m\u001b[43margs\u001b[49m\u001b[43m,\u001b[49m\u001b[43m \u001b[49m\u001b[38;5;241;43m*\u001b[39;49m\u001b[38;5;241;43m*\u001b[39;49m\u001b[43mkwargs\u001b[49m\u001b[43m)\u001b[49m\n\u001b[1;32m   2359\u001b[0m \u001b[38;5;28;01mreturn\u001b[39;00m result\n",
      "File \u001b[0;32m/opt/tljh/user/lib/python3.9/site-packages/IPython/core/magics/script.py:153\u001b[0m, in \u001b[0;36mScriptMagics._make_script_magic.<locals>.named_script_magic\u001b[0;34m(line, cell)\u001b[0m\n\u001b[1;32m    151\u001b[0m \u001b[38;5;28;01melse\u001b[39;00m:\n\u001b[1;32m    152\u001b[0m     line \u001b[38;5;241m=\u001b[39m script\n\u001b[0;32m--> 153\u001b[0m \u001b[38;5;28;01mreturn\u001b[39;00m \u001b[38;5;28;43mself\u001b[39;49m\u001b[38;5;241;43m.\u001b[39;49m\u001b[43mshebang\u001b[49m\u001b[43m(\u001b[49m\u001b[43mline\u001b[49m\u001b[43m,\u001b[49m\u001b[43m \u001b[49m\u001b[43mcell\u001b[49m\u001b[43m)\u001b[49m\n",
      "File \u001b[0;32m/opt/tljh/user/lib/python3.9/site-packages/IPython/core/magics/script.py:305\u001b[0m, in \u001b[0;36mScriptMagics.shebang\u001b[0;34m(self, line, cell)\u001b[0m\n\u001b[1;32m    300\u001b[0m \u001b[38;5;28;01mif\u001b[39;00m args\u001b[38;5;241m.\u001b[39mraise_error \u001b[38;5;129;01mand\u001b[39;00m p\u001b[38;5;241m.\u001b[39mreturncode \u001b[38;5;241m!=\u001b[39m \u001b[38;5;241m0\u001b[39m:\n\u001b[1;32m    301\u001b[0m     \u001b[38;5;66;03m# If we get here and p.returncode is still None, we must have\u001b[39;00m\n\u001b[1;32m    302\u001b[0m     \u001b[38;5;66;03m# killed it but not yet seen its return code. We don't wait for it,\u001b[39;00m\n\u001b[1;32m    303\u001b[0m     \u001b[38;5;66;03m# in case it's stuck in uninterruptible sleep. -9 = SIGKILL\u001b[39;00m\n\u001b[1;32m    304\u001b[0m     rc \u001b[38;5;241m=\u001b[39m p\u001b[38;5;241m.\u001b[39mreturncode \u001b[38;5;129;01mor\u001b[39;00m \u001b[38;5;241m-\u001b[39m\u001b[38;5;241m9\u001b[39m\n\u001b[0;32m--> 305\u001b[0m     \u001b[38;5;28;01mraise\u001b[39;00m CalledProcessError(rc, cell)\n",
      "\u001b[0;31mCalledProcessError\u001b[0m: Command 'b'# black pkg\\npylint pkg\\n\\n# ! black pkg &&  pylint pkg\\n'' returned non-zero exit status 1."
     ]
    }
   ],
   "source": [
    "%%bash\n",
    "# black pkg\n",
    "pylint pkg\n",
    "\n",
    "# ! black pkg &&  pylint pkg\n"
   ]
  },
  {
   "cell_type": "markdown",
   "id": "0099e4dc-0e6f-4dc3-b329-b6f44247a769",
   "metadata": {
    "tags": []
   },
   "source": [
    "# Tests\n",
    "\n",
    "Create one or more tests in the repo that show your package works correctly. Show an example here that your tests work.\n",
    "\n"
   ]
  },
  {
   "cell_type": "code",
   "execution_count": 16,
   "id": "2313046e-03fb-4cd5-85eb-4325ebb16264",
   "metadata": {},
   "outputs": [
    {
     "name": "stdout",
     "output_type": "stream",
     "text": [
      "\u001b[1m============================= test session starts ==============================\u001b[0m\n",
      "platform linux -- Python 3.9.7, pytest-7.2.2, pluggy-1.0.0\n",
      "rootdir: /home/jupyter-ziangliu@andrew.cm-5e81f/s23-06682/assignments/project/pkg\n",
      "plugins: typeguard-2.13.3, anyio-3.6.1\n",
      "collected 1 item                                                               \u001b[0m\n",
      "\n",
      "pkg/s23openalex/test_works.py \u001b[31mF\u001b[0m\u001b[31m                                          [100%]\u001b[0m\n",
      "\n",
      "=================================== FAILURES ===================================\n",
      "\u001b[31m\u001b[1m______________________________ TestSort.test_sort ______________________________\u001b[0m\n",
      "\n",
      "self = <s23openalex.test_works.TestSort object at 0x7fb03681c700>\n",
      "\n",
      "    \u001b[94mdef\u001b[39;49;00m \u001b[92mtest_sort\u001b[39;49;00m(\u001b[96mself\u001b[39;49;00m):\n",
      ">       w\n",
      "\u001b[1m\u001b[31mE       NameError: name 'w' is not defined\u001b[0m\n",
      "\n",
      "\u001b[1m\u001b[31mpkg/s23openalex/test_works.py\u001b[0m:30: NameError\n",
      "\u001b[36m\u001b[1m=========================== short test summary info ============================\u001b[0m\n",
      "\u001b[31mFAILED\u001b[0m pkg/s23openalex/test_works.py::\u001b[1mTestSort::test_sort\u001b[0m - NameError: name 'w' is not defined\n",
      "\u001b[31m============================== \u001b[31m\u001b[1m1 failed\u001b[0m\u001b[31m in 0.18s\u001b[0m\u001b[31m ===============================\u001b[0m\n"
     ]
    }
   ],
   "source": [
    "! pytest pkg\n",
    "\n"
   ]
  },
  {
   "cell_type": "markdown",
   "id": "754ec2b7-d224-4f1c-ba44-5d08ca9ebfbc",
   "metadata": {},
   "source": [
    "# Make some examples of your package to show it works here\n",
    "\n",
    "Install the package, and show an example for each method (RIS, and bibtex). Provide some evidence that the examples work correctly and generate valid RIS and bibtex.\n",
    "\n"
   ]
  },
  {
   "cell_type": "code",
   "execution_count": 17,
   "id": "827b5819-efd5-4dc6-9367-dcd53b1d4474",
   "metadata": {},
   "outputs": [
    {
     "data": {
      "text/plain": [
       "{'journal': '{ACS} Catalysis',\n",
       " 'title': 'Examples of Effective Data Sharing in Scientific Publishing',\n",
       " 'author': 'John R. Kitchin',\n",
       " 'pages': '3894--3899',\n",
       " 'number': '6',\n",
       " 'volume': '5',\n",
       " 'publisher': 'American Chemical Society ({ACS})',\n",
       " 'month': 'may',\n",
       " 'year': '2015',\n",
       " 'url': 'https://doi.org/10.1021%2Facscatal.5b00538',\n",
       " 'doi': '10.1021/acscatal.5b00538',\n",
       " 'ENTRYTYPE': 'article',\n",
       " 'ID': 'Kitchin_2015'}"
      ]
     },
     "execution_count": 17,
     "metadata": {},
     "output_type": "execute_result"
    }
   ],
   "source": [
    "import s23openalex\n",
    "from s23openalex import Works\n",
    "w = Works('https://doi.org/10.1021/acscatal.5b00538')\n",
    "w.get_bibtex()\n",
    "\n",
    "\n"
   ]
  },
  {
   "cell_type": "code",
   "execution_count": 18,
   "id": "8b368374-94b2-4467-a165-9a3b67d7173b",
   "metadata": {},
   "outputs": [],
   "source": [
    "w.get_RIS()"
   ]
  },
  {
   "cell_type": "markdown",
   "id": "eedea211-d905-45f9-8358-f962dec6f934",
   "metadata": {},
   "source": [
    "# Show that the commandline utility works. \n",
    "\n",
    "Run the command you created and show that it outputs either RIS or bibtex for a DOI.\n",
    "\n"
   ]
  },
  {
   "cell_type": "code",
   "execution_count": null,
   "id": "a004ad34-e95f-4f65-9da1-75abb94ea878",
   "metadata": {},
   "outputs": [],
   "source": [
    "%%bash\n",
    "\n",
    "<your command> --some-flag DOI  # depending on flag outputs bibtex or RIS\n",
    "\n"
   ]
  },
  {
   "cell_type": "code",
   "execution_count": null,
   "id": "ea556875-4675-4905-a9cd-d33aa3c78f8a",
   "metadata": {},
   "outputs": [],
   "source": [
    "# Run this cell to generate a pdf from this notebook\n",
    "# Click the generated links to preview and download it.\n",
    "# Report errors to Professor Kitchin\n",
    "from s23 import pdf\n",
    "%pdf\n",
    "\n"
   ]
  }
 ],
 "metadata": {
  "kernelspec": {
   "display_name": "Python 3",
   "language": "python",
   "name": "python3"
  },
  "language_info": {
   "codemirror_mode": {
    "name": "ipython",
    "version": 3
   },
   "file_extension": ".py",
   "mimetype": "text/x-python",
   "name": "python",
   "nbconvert_exporter": "python",
   "pygments_lexer": "ipython3",
   "version": "3.9.7"
  },
  "widgets": {
   "application/vnd.jupyter.widget-state+json": {
    "state": {},
    "version_major": 2,
    "version_minor": 0
   }
  }
 },
 "nbformat": 4,
 "nbformat_minor": 5
}
